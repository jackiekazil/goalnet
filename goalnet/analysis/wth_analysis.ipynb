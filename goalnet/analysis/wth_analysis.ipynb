{
 "metadata": {
  "name": "wth_analysis"
 },
 "nbformat": 3,
 "nbformat_minor": 0,
 "worksheets": [
  {
   "cells": [
    {
     "cell_type": "code",
     "collapsed": false,
     "input": [
      "import os\n",
      "import json\n",
      "from pprint import pprint"
     ],
     "language": "python",
     "metadata": {},
     "outputs": [],
     "prompt_number": 1
    },
    {
     "cell_type": "code",
     "collapsed": false,
     "input": [
      "dfile = '../outputs/613b8df0-edc5-4dd6-ad21-a1b734c0ab31/data.json'"
     ],
     "language": "python",
     "metadata": {},
     "outputs": [],
     "prompt_number": 2
    },
    {
     "cell_type": "code",
     "collapsed": false,
     "input": [
      "json_data=open(dfile)\n",
      "data = json.load(json_data)\n",
      "#pprint(data)\n",
      "#json_data.close()"
     ],
     "language": "python",
     "metadata": {},
     "outputs": [],
     "prompt_number": 3
    },
    {
     "cell_type": "code",
     "collapsed": false,
     "input": [
      "#data['1']['willingness_to_help']"
     ],
     "language": "python",
     "metadata": {},
     "outputs": [],
     "prompt_number": 4
    },
    {
     "cell_type": "code",
     "collapsed": false,
     "input": [
      "from wth import get_agent_wth_avg\n",
      "wth_by_agent = get_agent_wth_avg(data)"
     ],
     "language": "python",
     "metadata": {},
     "outputs": [],
     "prompt_number": 5
    },
    {
     "cell_type": "code",
     "collapsed": false,
     "input": [
      "from wth import get_agent_wth_avg_all_runs\n",
      "wth_by_agent_all_runs = get_agent_wth_avg_all_runs(wth_by_agent)\n",
      "# Are these supposed to be the same? Was an error made?\n",
      "pprint(wth_by_agent_all_runs)\n"
     ],
     "language": "python",
     "metadata": {},
     "outputs": [
      {
       "output_type": "stream",
       "stream": "stdout",
       "text": [
        "{u'1': -0.0010951273232138619,\n",
        " u'10': -0.0010951273232138619,\n",
        " u'11': -0.0010951273232138619,\n",
        " u'12': -0.0010951273232138619,\n",
        " u'13': -0.0010951273232138619,\n",
        " u'14': -0.0010951273232138619,\n",
        " u'15': -0.0010951273232138619,\n",
        " u'16': -0.0010951273232138619,\n",
        " u'17': -0.0010951273232138619,\n",
        " u'18': -0.0010951273232138619,\n",
        " u'19': -0.0010951273232138619,\n",
        " u'2': -0.0010951273232138619,\n",
        " u'20': -0.0010951273232138619,\n",
        " u'21': -0.0010951273232138619,\n",
        " u'22': -0.0010951273232138619,\n",
        " u'23': -0.0010951273232138619,\n",
        " u'24': -0.0010951273232138619,\n",
        " u'25': -0.0010951273232138619,\n",
        " u'26': -0.0010951273232138619,\n",
        " u'27': -0.0010951273232138619,\n",
        " u'28': -0.0010951273232138619,\n",
        " u'29': -0.0010951273232138619,\n",
        " u'3': -0.0010951273232138619,\n",
        " u'30': -0.0010951273232138619,\n",
        " u'31': -0.0010951273232138619,\n",
        " u'32': -0.0010951273232138619,\n",
        " u'33': -0.0010951273232138619,\n",
        " u'34': -0.0010951273232138619,\n",
        " u'35': -0.0010951273232138619,\n",
        " u'36': -0.0010951273232138619,\n",
        " u'37': -0.0010951273232138619,\n",
        " u'38': -0.0010951273232138619,\n",
        " u'39': -0.0010951273232138619,\n",
        " u'4': -0.0010951273232138619,\n",
        " u'40': -0.0010951273232138619,\n",
        " u'41': -0.0010951273232138619,\n",
        " u'42': -0.0010951273232138619,\n",
        " u'43': -0.0010951273232138619,\n",
        " u'44': -0.0010951273232138619,\n",
        " u'45': -0.0010951273232138619,\n",
        " u'46': -0.0010951273232138619,\n",
        " u'47': -0.0010951273232138619,\n",
        " u'48': -0.0010951273232138619,\n",
        " u'49': -0.0010951273232138619,\n",
        " u'5': -0.0010951273232138619,\n",
        " u'50': -0.0010951273232138619,\n",
        " u'6': -0.0010951273232138619,\n",
        " u'7': -0.0010951273232138619,\n",
        " u'8': -0.0010951273232138619,\n",
        " u'9': -0.0010951273232138619}\n"
       ]
      }
     ],
     "prompt_number": 7
    },
    {
     "cell_type": "code",
     "collapsed": false,
     "input": [],
     "language": "python",
     "metadata": {},
     "outputs": [],
     "prompt_number": 7
    },
    {
     "cell_type": "code",
     "collapsed": false,
     "input": [],
     "language": "python",
     "metadata": {},
     "outputs": []
    }
   ],
   "metadata": {}
  }
 ]
}