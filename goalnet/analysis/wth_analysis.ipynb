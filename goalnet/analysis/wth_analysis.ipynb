{
 "metadata": {
  "name": "wth_analysis"
 },
 "nbformat": 3,
 "nbformat_minor": 0,
 "worksheets": [
  {
   "cells": [
    {
     "cell_type": "code",
     "collapsed": false,
     "input": [
      "import os\n",
      "import json\n",
      "from pprint import pprint\n",
      "\n",
      "def _load_json(jfile):\n",
      "    json_data = open(jfile)\n",
      "    data = json.load(json_data)\n",
      "    json_data.close()\n",
      "    return data\n",
      "\n",
      "def _load_data(source, file_type):\n",
      "    source = sources[source]\n",
      "    loaded_file = source + '/' + file_type\n",
      "    file_content = _load_json(loaded_file)\n",
      "    return file_content\n",
      "\n",
      "#dfile = '../outputs/0758ac05-8564-4ea1-aed6-a31ae0ef8b1a/data.json\n",
      "sources = {}\n",
      "data_dir = '../outputs/'\n",
      "count = 1\n",
      "for data_file in os.listdir(data_dir):\n",
      "    filename = 'data' + str(count)\n",
      "    sources[filename] = data_dir + data_file\n",
      "    count+=1"
     ],
     "language": "python",
     "metadata": {},
     "outputs": [],
     "prompt_number": 29
    },
    {
     "cell_type": "code",
     "collapsed": false,
     "input": [
      "source = 'data3'\n",
      "data = _load_data(source, 'data.json')\n",
      "context = _load_data(source, 'config.json')"
     ],
     "language": "python",
     "metadata": {},
     "outputs": [],
     "prompt_number": 41
    },
    {
     "cell_type": "code",
     "collapsed": false,
     "input": [
      "context"
     ],
     "language": "python",
     "metadata": {},
     "outputs": [
      {
       "output_type": "pyout",
       "prompt_number": 42,
       "text": [
        "{u'agent_count': 100,\n",
        " u'agent_speed': 1,\n",
        " u'collection_intervals': 2,\n",
        " u'initial_configuration': u'Random1',\n",
        " u'max_clock': 200,\n",
        " u'random_seed': u'None',\n",
        " u'task_speed': 2}"
       ]
      }
     ],
     "prompt_number": 42
    },
    {
     "cell_type": "code",
     "collapsed": false,
     "input": [
      "#from wth import get_agent_wth_by_ts\n",
      "#wth_by_agent = get_agent_wth_by_ts(data)\n",
      "\n",
      "avg_by_agent = {}\n",
      "# ts is timestamp\n",
      "for ts in data:\n",
      "    ts_wth = data[ts]['willingness_to_help']\n",
      "    for agent in ts_wth:\n",
      "        values = []\n",
      "        #print '######################  ', agent\n",
      "        # k = data.ts.wth.agent.agent\n",
      "        for k in ts_wth[agent]:\n",
      "            values.append(ts_wth[agent][k])\n",
      "        \n",
      "        if values:\n",
      "            agent_avg = np.mean(values)\n",
      "        \n",
      "            try:\n",
      "                avg_by_agent[agent][ts] = agent_avg\n",
      "            except KeyError:\n",
      "                avg_by_agent[agent] = {}\n",
      "                avg_by_agent[agent][ts] = agent_avg"
     ],
     "language": "python",
     "metadata": {},
     "outputs": [],
     "prompt_number": 43
    },
    {
     "cell_type": "code",
     "collapsed": false,
     "input": [
      "#avg_by_agent "
     ],
     "language": "python",
     "metadata": {},
     "outputs": [],
     "prompt_number": 44
    },
    {
     "cell_type": "code",
     "collapsed": false,
     "input": [
      "#from wth import get_agent_wth_avg_all_runs\n",
      "#wth_by_agent_all_runs = get_agent_wth_avg_all_runs(avg_by_agent)\n",
      "wth_by_agent_all_runs = {}\n",
      "for agent in avg_by_agent:\n",
      "    wth_by_agent_all_runs[agent] = np.mean(avg_by_agent[agent].values())"
     ],
     "language": "python",
     "metadata": {},
     "outputs": [],
     "prompt_number": 45
    },
    {
     "cell_type": "raw",
     "metadata": {},
     "source": [
      "wth_by_agent is dict of agents averages by timestamp\n",
      "wth_by_agent_all_runs is a dict of agents averages"
     ]
    },
    {
     "cell_type": "code",
     "collapsed": false,
     "input": [
      "# Check to make sure that we have good values\n",
      "#for i in wth_by_agent_all_runs.values():\n",
      "#    if not math.isnan(i):\n",
      "#        print i"
     ],
     "language": "python",
     "metadata": {},
     "outputs": [],
     "prompt_number": 46
    },
    {
     "cell_type": "code",
     "collapsed": false,
     "input": [
      "#histogram distribution of final wth\n",
      "import matplotlib.pyplot as plt\n",
      "plt.hist([x * 100 for x in wth_by_agent_all_runs.values()], color='green')\n",
      "plt.ylabel(\"Number of agents\")\n",
      "plt.xlabel(\"Willingness to help (* 100)\")\n",
      "plt.title(\"Agents average willingness to help\")"
     ],
     "language": "python",
     "metadata": {},
     "outputs": [
      {
       "output_type": "pyout",
       "prompt_number": 50,
       "text": [
        "<matplotlib.text.Text at 0x105782b90>"
       ]
      },
      {
       "output_type": "display_data",
       "png": "[encoded data removed]"
      }
     ],
     "prompt_number": 50
    },
    {
     "cell_type": "code",
     "collapsed": false,
     "input": [],
     "language": "python",
     "metadata": {},
     "outputs": [],
     "prompt_number": 47
    },
    {
     "cell_type": "code",
     "collapsed": false,
     "input": [
      "#Agent propensity to help over time\n",
      "for a in avg_by_agent:\n",
      "    plt.plot([x*1000 for x in avg_by_agent[a].values()])\n",
      "plt.ylabel(\"Timestep\")\n",
      "plt.xlabel(\"Propensity to help\")\n",
      "plt.title(\"Agent propensity to help over time for 100 agents\")\n",
      "plt.show()"
     ],
     "language": "python",
     "metadata": {},
     "outputs": [
      {
       "output_type": "display_data",
       "png": "[encoded data removed]"
      }
     ],
     "prompt_number": 48
    },
    {
     "cell_type": "code",
     "collapsed": false,
     "input": [
      "# imoprt sys is here to run all code but not this block \n",
      "# this block is too intensive\n",
      "import sys\n",
      "sys.exit()\n",
      "\n",
      "a2a_wth = []\n",
      "for ts in data:\n",
      "    evaluated = []\n",
      "    ts_wth = data[ts]['willingness_to_help']\n",
      "    for a in ts_wth:\n",
      "        for a2 in ts_wth[a]:\n",
      "            if not (a, a2) or not (a2, a) in evaluated:\n",
      "                evaluated.append((a, a2))\n",
      "                #(ts, (a,a2), (a wth a2, a2 wth a))\n",
      "                try:\n",
      "                    a2_to_a = ts_wth[a][a2]\n",
      "                except KeyError:\n",
      "                    a2_to_a = 0\n",
      "                a2a_wth.append(((a, a2), (ts_wth[a][a2], a2_to_a), ts))"
     ],
     "language": "python",
     "metadata": {},
     "outputs": [
      {
       "ename": "SystemExit",
       "evalue": "",
       "output_type": "pyerr",
       "traceback": [
        "An exception has occurred, use %tb to see the full traceback.\n",
        "\u001b[0;31mSystemExit\u001b[0m\n"
       ]
      },
      {
       "output_type": "stream",
       "stream": "stderr",
       "text": [
        "To exit: use 'exit', 'quit', or Ctrl-D."
       ]
      }
     ],
     "prompt_number": 28
    },
    {
     "cell_type": "code",
     "collapsed": false,
     "input": [
      "pprint(a2a_wth)"
     ],
     "language": "python",
     "metadata": {},
     "outputs": [],
     "prompt_number": "*"
    },
    {
     "cell_type": "code",
     "collapsed": false,
     "input": [],
     "language": "python",
     "metadata": {},
     "outputs": []
    }
   ],
   "metadata": {}
  }
 ]
}