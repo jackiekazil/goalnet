{
 "metadata": {
  "name": "wth_analysis"
 },
 "nbformat": 3,
 "nbformat_minor": 0,
 "worksheets": [
  {
   "cells": [
    {
     "cell_type": "code",
     "collapsed": false,
     "input": [
      "data_dir = '../my_output/'\n",
      "source = 'data10'"
     ],
     "language": "python",
     "metadata": {},
     "outputs": [],
     "prompt_number": 260
    },
    {
     "cell_type": "code",
     "collapsed": false,
     "input": [
      "import os\n",
      "import json\n",
      "from pprint import pprint\n",
      "\n",
      "def _load_json(jfile):\n",
      "    json_data = open(jfile)\n",
      "    data = json.load(json_data)\n",
      "    json_data.close()\n",
      "    return data\n",
      "\n",
      "def _load_data(source, file_type):\n",
      "    source = sources[source]\n",
      "    loaded_file = source + '/' + file_type\n",
      "    file_content = _load_json(loaded_file)\n",
      "    return file_content\n",
      "\n",
      "sources = {}\n",
      "count = 1\n",
      "for data_file in os.listdir(data_dir):\n",
      "    filename = 'data' + str(count)\n",
      "    sources[filename] = data_dir + data_file\n",
      "    count+=1"
     ],
     "language": "python",
     "metadata": {},
     "outputs": [],
     "prompt_number": 261
    },
    {
     "cell_type": "code",
     "collapsed": false,
     "input": [
      "# Returns values for config of runs\n",
      "#pprint(sources)\n",
      "#for source in sources:\n",
      "#    context = _load_data(source, 'config.json')\n",
      "#    print source, ' ', sources[source], context['agent_count'], context['task_speed'], context['agent_speed']"
     ],
     "language": "python",
     "metadata": {},
     "outputs": [],
     "prompt_number": 262
    },
    {
     "cell_type": "code",
     "collapsed": false,
     "input": [
      "data = _load_data(source, 'data.json')\n",
      "context = _load_data(source, 'config.json')"
     ],
     "language": "python",
     "metadata": {},
     "outputs": [],
     "prompt_number": 263
    },
    {
     "cell_type": "code",
     "collapsed": false,
     "input": [
      "context"
     ],
     "language": "python",
     "metadata": {},
     "outputs": [
      {
       "output_type": "pyout",
       "prompt_number": 264,
       "text": [
        "{u'agent_count': 100,\n",
        " u'agent_speed': 1,\n",
        " u'collection_intervals': 2,\n",
        " u'initial_configuration': u'Random1',\n",
        " u'max_clock': 200,\n",
        " u'random_seed': u'None',\n",
        " u'task_speed': 1}"
       ]
      }
     ],
     "prompt_number": 264
    },
    {
     "cell_type": "code",
     "collapsed": false,
     "input": [
      "#from wth import get_agent_wth_by_ts\n",
      "#wth_by_agent = get_agent_wth_by_ts(data)\n",
      "\n",
      "avg_by_agent = {}\n",
      "# ts is timestamp\n",
      "for ts in data:\n",
      "    ts_wth = data[ts]['willingness_to_help']\n",
      "    for agent in ts_wth:\n",
      "        values = []\n",
      "        #print '######################  ', agent\n",
      "        # k = data.ts.wth.agent.agent\n",
      "        for k in ts_wth[agent]:\n",
      "            values.append(ts_wth[agent][k])\n",
      "        \n",
      "        if values:\n",
      "            agent_avg = np.mean(values)\n",
      "        \n",
      "            try:\n",
      "                avg_by_agent[agent][ts] = agent_avg\n",
      "            except KeyError:\n",
      "                avg_by_agent[agent] = {}\n",
      "                avg_by_agent[agent][ts] = agent_avg"
     ],
     "language": "python",
     "metadata": {},
     "outputs": [],
     "prompt_number": 265
    },
    {
     "cell_type": "code",
     "collapsed": false,
     "input": [
      "#from wth import get_agent_wth_avg_all_runs\n",
      "#wth_by_agent_all_runs = get_agent_wth_avg_all_runs(avg_by_agent)\n",
      "wth_by_agent_all_runs = {}\n",
      "for agent in avg_by_agent:\n",
      "    wth_by_agent_all_runs[agent] = np.mean(avg_by_agent[agent].values())"
     ],
     "language": "python",
     "metadata": {},
     "outputs": [],
     "prompt_number": 266
    },
    {
     "cell_type": "raw",
     "metadata": {},
     "source": [
      "avg_by_agent is dict of agents averages by timestamp\n",
      "wth_by_agent_all_runs is a dict of agents averages"
     ]
    },
    {
     "cell_type": "code",
     "collapsed": false,
     "input": [
      "x = sorted(wth_by_agent_all_runs.values())\n",
      "print wth_by_agent_all_runs"
     ],
     "language": "python",
     "metadata": {},
     "outputs": [
      {
       "output_type": "stream",
       "stream": "stdout",
       "text": [
        "{u'24': -15.45804366945654, u'25': -376.23298492830907, u'26': -1.2634967256019602, u'27': -18.740584549495136, u'20': -25.529592945147225, u'21': -137.01283135450078, u'22': -305.16854732686653, u'23': -1585.0498656473064, u'28': -18.407164313525378, u'29': -186.22713499934426, u'0': -0.28868852684710328, u'4': -13470.684560542684, u'8': -26392.508589196172, u'59': -34870.061086676084, u'58': -27716.01642336381, u'55': 1019.4044409116057, u'54': -43686.888548866729, u'57': -83.987122467400681, u'56': -48465.664790782954, u'51': -154.45858548757815, u'50': -20.759277271284962, u'53': -136.17289892429082, u'52': -176.90313933108837, u'88': -906.09695658115049, u'89': 6.0823388302113974, u'82': -185.94282109753334, u'83': -393.31129109591859, u'80': -52.863770568031519, u'81': -913.49204719682507, u'86': -168.98534064735844, u'87': -401.08166760892243, u'84': -110.90672916717435, u'85': -30.275620692603063, u'3': -298.12386442495949, u'7': -103.32255037535556, u'39': -79.095370136065156, u'38': -9.5518120979768746, u'33': -683.94841555111987, u'32': -88.019285174167678, u'31': -28.551380441429181, u'30': -105.90998860485003, u'37': -7.2556434647883314, u'36': 0.038916565374627683, u'35': -100.48481899231514, u'34': -57.106850236693383, u'60': -93.951843608742877, u'61': -37.319042348098037, u'62': -6612.0996195841426, u'63': -145.64805034275975, u'64': -228.61747883968906, u'65': -182.78315250780363, u'66': -398.16592016922408, u'67': -164.9954611376626, u'68': -115.60057628073822, u'69': -4.555494658890634, u'2': -2639.5552496057553, u'6': -47.280213939108855, u'99': -1148.6615501902691, u'98': -3084.2233736295439, u'91': -897.53636049585634, u'90': -766.93693176152249, u'93': -188.17519916365532, u'92': 6.800210106825884, u'95': -791.04092185513548, u'94': -360.37971942264682, u'97': -94.265019782003037, u'96': -26.079835546984306, u'11': -290.46163165749078, u'10': -164.93227254992189, u'13': -240.7532455794078, u'12': -5298.9939035719253, u'15': 13.256922038365715, u'14': -0.43942764706179399, u'17': -159.2963467259618, u'16': -1354.0502000956774, u'19': -947.29359039321457, u'18': 7.787381492372635, u'48': -18.670125856912424, u'49': -721.44675281073364, u'46': -0.14540054121251958, u'47': -58.087752088981055, u'44': -702.5091703173282, u'45': -3877.8114117776026, u'42': -107.61547834744702, u'43': -72.815088075191838, u'40': -204.23497091336839, u'41': -77.566270711391482, u'1': 188049.81745410064, u'5': -821.41432238320613, u'9': -48.088852793336052, u'77': -66.697954160395568, u'76': -49.830697331462289, u'75': -79.663449300281698, u'74': 72.628119803777324, u'73': -194.41945172222947, u'72': -1690.9389962966507, u'71': 3136.5194942516714, u'70': -115.83100366853684, u'79': -113.26198050053019, u'78': -0.91351966571937659}\n"
       ]
      }
     ],
     "prompt_number": 267
    },
    {
     "cell_type": "code",
     "collapsed": false,
     "input": [
      "# Narrow down to core values.\n",
      "x_std = np.std(x, ddof = 1)\n",
      "x_mean = np.mean(x)\n",
      "z = []\n",
      "neg_sd = x_mean-1*x_std\n",
      "pos_sd = x_mean+1*x_std\n",
      "for i in x:\n",
      "    if neg_sd < i < pos_sd:\n",
      "        z.append(i)\n",
      "\n",
      "y = [i for i in x if -400 < i < 50]"
     ],
     "language": "python",
     "metadata": {},
     "outputs": [],
     "prompt_number": 268
    },
    {
     "cell_type": "code",
     "collapsed": false,
     "input": [
      "print x_std\n",
      "print x_mean"
     ],
     "language": "python",
     "metadata": {},
     "outputs": [
      {
       "output_type": "stream",
       "stream": "stdout",
       "text": [
        "20741.9385056\n",
        "-457.615291863\n"
       ]
      }
     ],
     "prompt_number": 269
    },
    {
     "cell_type": "code",
     "collapsed": false,
     "input": [
      "# Check to make sure that we have good values\n",
      "#for i in wth_by_agent_all_runs.values():\n",
      "#    if not math.isnan(i):\n",
      "#        print i"
     ],
     "language": "python",
     "metadata": {},
     "outputs": [],
     "prompt_number": 270
    },
    {
     "cell_type": "code",
     "collapsed": false,
     "input": [
      "#histogram distribution of final wth\n",
      "import matplotlib.pyplot as plt\n",
      "plt.hist([x for x in wth_by_agent_all_runs.values()], bins=20, color='green',alpha=0.6)\n",
      "plt.ylabel(\"Number of agents\")\n",
      "plt.xlabel(\"Willingness to help\")\n",
      "plt.title(\"Agents Average Willingness to Help\")"
     ],
     "language": "python",
     "metadata": {},
     "outputs": [
      {
       "output_type": "pyout",
       "prompt_number": 271,
       "text": [
        "<matplotlib.text.Text at 0x106b9dbd0>"
       ]
      },
      {
       "output_type": "display_data",
       "png": "[encoded data removed]"
      }
     ],
     "prompt_number": 271
    },
    {
     "cell_type": "code",
     "collapsed": false,
     "input": [
      "#histogram distribution of final wth\n",
      "import matplotlib.pyplot as plt\n",
      "plt.hist([x for x in z], bins=20, color='green', alpha=0.6)\n",
      "plt.ylabel(\"Number of agents\")\n",
      "plt.xlabel(\"Willingness to help\")\n",
      "plt.title(\"Agents Average Willingness to Help (within 1 std)\")"
     ],
     "language": "python",
     "metadata": {},
     "outputs": [
      {
       "output_type": "pyout",
       "prompt_number": 276,
       "text": [
        "<matplotlib.text.Text at 0x106bcf410>"
       ]
      },
      {
       "output_type": "display_data",
       "png": "[encoded data removed]"
      }
     ],
     "prompt_number": 276
    },
    {
     "cell_type": "code",
     "collapsed": false,
     "input": [
      "#histogram distribution of final wth\n",
      "import matplotlib.pyplot as plt\n",
      "print len(y)\n",
      "plt.hist([x for x in y],  bins=20, color='green', alpha=0.6)\n",
      "plt.ylabel(\"Number of agents\")\n",
      "plt.xlabel(\"Willingness to help\")\n",
      "plt.title(\"[Core] Agents average willingness to help\")"
     ],
     "language": "python",
     "metadata": {},
     "outputs": [
      {
       "output_type": "stream",
       "stream": "stdout",
       "text": [
        "70\n"
       ]
      },
      {
       "output_type": "pyout",
       "prompt_number": 273,
       "text": [
        "<matplotlib.text.Text at 0x11e2f7510>"
       ]
      },
      {
       "output_type": "display_data",
       "png": "[encoded data removed]"
      }
     ],
     "prompt_number": 273
    },
    {
     "cell_type": "code",
     "collapsed": false,
     "input": [
      "av = []\n",
      "for a in avg_by_agent:\n",
      "    av.append([x for x in avg_by_agent[a].values() if ])\n",
      "print av\n",
      "\n",
      "av_std = np.std(av, ddof = 1)\n",
      "av_mean = np.mean(av)\n",
      "z = []\n",
      "neg_sd = av_mean-1*x_std\n",
      "pos_sd = av_mean+1*x_std\n",
      "for i in av:\n",
      "    if neg_sd < i < pos_sd:\n",
      "        z.append(i)\n",
      "\n",
      "y = [i for i in av if -500 < i < 500]"
     ],
     "language": "python",
     "metadata": {},
     "outputs": [
      {
       "ename": "SyntaxError",
       "evalue": "invalid syntax (<ipython-input-277-e8d69f546468>, line 3)",
       "output_type": "pyerr",
       "traceback": [
        "\u001b[0;36m  File \u001b[0;32m\"<ipython-input-277-e8d69f546468>\"\u001b[0;36m, line \u001b[0;32m3\u001b[0m\n\u001b[0;31m    av.append([x for x in avg_by_agent[a].values() if ])\u001b[0m\n\u001b[0m                                                      ^\u001b[0m\n\u001b[0;31mSyntaxError\u001b[0m\u001b[0;31m:\u001b[0m invalid syntax\n"
       ]
      }
     ],
     "prompt_number": 277
    },
    {
     "cell_type": "code",
     "collapsed": false,
     "input": [
      "#Agent propensity to help over time\n",
      "for a in avg_by_agent:\n",
      "    plt.plot([x*1000 for x in avg_by_agent[a].values()])\n",
      "plt.xlabel(\"Timestep\")\n",
      "plt.ylabel(\"Propensity to help (* 1000)\")\n",
      "plt.title(\"Agent Willingness to Help Over Time\")\n",
      "plt.show()"
     ],
     "language": "python",
     "metadata": {},
     "outputs": []
    },
    {
     "cell_type": "code",
     "collapsed": false,
     "input": [
      "# agents to focus on\n",
      "#-400 < i < 50]\n",
      "afocused = [a for a in wth_by_agent_all_runs.keys() if -400 < wth_by_agent_all_runs[a] < 50]\n",
      "print afocused\n",
      "print len(afocused)"
     ],
     "language": "python",
     "metadata": {},
     "outputs": []
    },
    {
     "cell_type": "code",
     "collapsed": false,
     "input": [
      "#Agent propensity to help over time\n",
      "for a in avg_by_agent:\n",
      "    if a in afocused:\n",
      "        plt.plot([x*1000 for x in avg_by_agent[a].values()])\n",
      "plt.xlabel(\"Timestep\")\n",
      "plt.ylabel(\"Propensity to help (* 1000)\")\n",
      "plt.title(\"[Core] Agent Willingness to Help Over Time\")\n",
      "plt.show()"
     ],
     "language": "python",
     "metadata": {},
     "outputs": []
    },
    {
     "cell_type": "code",
     "collapsed": false,
     "input": [
      "# agents to focus on\n",
      "afocused = [a for a in wth_by_agent_all_runs.keys() if 6< wth_by_agent_all_runs[a] < 6.8]\n",
      "print afocused\n",
      "print len(afocused)\n",
      "\n",
      "#Agent propensity to help over time\n",
      "for a in avg_by_agent:\n",
      "    if a in afocused:\n",
      "        plt.plot([x for x in avg_by_agent[a].values()])\n",
      "plt.xlabel(\"Timestep\")\n",
      "plt.ylabel(\"Propensity to help\")\n",
      "plt.title(\"Agent Willingness to Help Over Time\")\n",
      "plt.show()"
     ],
     "language": "python",
     "metadata": {},
     "outputs": []
    },
    {
     "cell_type": "code",
     "collapsed": false,
     "input": [
      "from analysis_functions import *\n",
      "keys, active_tasks, complete_tasks = count_tasks(data)\n",
      "print complete_tasks"
     ],
     "language": "python",
     "metadata": {},
     "outputs": []
    },
    {
     "cell_type": "code",
     "collapsed": false,
     "input": [
      "# imoprt sys is here to run all code but not this block \n",
      "# this block is too intensive\n",
      "a2a_wth = []\n",
      "for ts in data:\n",
      "    evaluated = []\n",
      "    ts_wth = data[ts]['willingness_to_help']\n",
      "    for a in ts_wth:\n",
      "        for a2 in ts_wth[a]:\n",
      "            try:\n",
      "                a2_to_a = ts_wth[a2][a]\n",
      "            except KeyError:\n",
      "                a2_to_a = 0\n",
      "            a2a_wth.append((ts_wth[a][a2], a2_to_a))"
     ],
     "language": "python",
     "metadata": {},
     "outputs": []
    },
    {
     "cell_type": "code",
     "collapsed": false,
     "input": [
      "x = [i[0] for i in a2a_wth]\n",
      "y = [i[1] for i in a2a_wth]\n",
      "plt.scatter(x, y, color=\"green\", alpha=0.6)\n",
      "plt.title(\"Agent to Agent Final Willingness to Help\")\n",
      "plt.xlabel(\"Agent 1 willingness to help\")\n",
      "plt.ylabel(\"Agent 2 willingness to help\")"
     ],
     "language": "python",
     "metadata": {},
     "outputs": []
    },
    {
     "cell_type": "code",
     "collapsed": false,
     "input": [],
     "language": "python",
     "metadata": {},
     "outputs": []
    },
    {
     "cell_type": "code",
     "collapsed": false,
     "input": [
      "# imoprt sys is here to run all code but not this block \n",
      "# this block is too intensive\n",
      "count = 0\n",
      "a2a_wth = []\n",
      "\n",
      "ts_wth = data['200']['willingness_to_help']\n",
      "for a in ts_wth:\n",
      "    #if count<1:\n",
      "    #    pprint(ts_wth[a])\n",
      "    #    count+=1\n",
      "    if a in afocused:\n",
      "        for a2 in ts_wth[a]:\n",
      "            try:\n",
      "                a2_to_a = ts_wth[a2][a]\n",
      "            except KeyError:\n",
      "                a2_to_a = 0\n",
      "            bot = -200\n",
      "            top = 20\n",
      "            if bot < ts_wth[a][a2] < top:\n",
      "                if bot < a2_to_a < top:\n",
      "                    a2a_wth.append((ts_wth[a][a2], a2_to_a))\n"
     ],
     "language": "python",
     "metadata": {},
     "outputs": []
    },
    {
     "cell_type": "code",
     "collapsed": false,
     "input": [
      "x = [i[0] for i in a2a_wth]\n",
      "y = [i[1] for i in a2a_wth]\n",
      "plt.scatter(x, y, color=\"green\", alpha=0.6)\n",
      "plt.title(\"[Core] Agent to Agent Final Willingness to Help\")\n",
      "plt.xlabel(\"Agent 1 willingness to help\")\n",
      "plt.ylabel(\"Agent 2 willingness to help\")"
     ],
     "language": "python",
     "metadata": {},
     "outputs": []
    },
    {
     "cell_type": "code",
     "collapsed": false,
     "input": [],
     "language": "python",
     "metadata": {},
     "outputs": []
    }
   ],
   "metadata": {}
  }
 ]
}