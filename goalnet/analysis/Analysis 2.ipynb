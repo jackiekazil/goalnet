{
 "metadata": {
  "name": "Analysis 2"
 },
 "nbformat": 3,
 "nbformat_minor": 0,
 "worksheets": [
  {
   "cells": [
    {
     "cell_type": "code",
     "collapsed": false,
     "input": [
      "import os\n",
      "from analysis_functions import *\n",
      "import matplotlib.pyplot as plt\n",
      "import numpy as np"
     ],
     "language": "python",
     "metadata": {},
     "outputs": [],
     "prompt_number": 4
    },
    {
     "cell_type": "code",
     "collapsed": false,
     "input": [
      "BASE_PATH = \"../outputs/\""
     ],
     "language": "python",
     "metadata": {},
     "outputs": [],
     "prompt_number": 5
    },
    {
     "cell_type": "code",
     "collapsed": false,
     "input": [
      "# Find last gini for each run:\n",
      "agent_counts = []\n",
      "final_ginis = []\n",
      "for folder in os.listdir(BASE_PATH):\n",
      "    data = load_data(BASE_PATH + folder + \"/data.json\")\n",
      "    agent_count = len(data[data.keys()[0]][\"wealth\"])\n",
      "    agent_counts.append(agent_count)\n",
      "    ginis = get_ginis(data)\n",
      "    final_ginis.append(ginis[-1])"
     ],
     "language": "python",
     "metadata": {},
     "outputs": [],
     "prompt_number": 9
    },
    {
     "cell_type": "code",
     "collapsed": false,
     "input": [
      "print np.mean(final_ginis)\n",
      "print np.median(final_ginis)\n",
      "print np.min(final_ginis)\n",
      "print np.max(final_ginis)\n"
     ],
     "language": "python",
     "metadata": {},
     "outputs": [
      {
       "output_type": "stream",
       "stream": "stdout",
       "text": [
        "0.326190907714\n",
        "0.306732569884\n",
        "0.254248025469\n",
        "0.674644620522\n"
       ]
      }
     ],
     "prompt_number": 13
    },
    {
     "cell_type": "code",
     "collapsed": false,
     "input": [
      "plt.scatter(agent_counts, final_ginis)\n",
      "plt.xlabel(\"Agent Count\")\n",
      "plt.ylabel(\"Final Gini Coefficient\")"
     ],
     "language": "python",
     "metadata": {},
     "outputs": [
      {
       "output_type": "pyout",
       "prompt_number": 16,
       "text": [
        "<matplotlib.text.Text at 0x10ca7a590>"
       ]
      },
      {
       "output_type": "display_data",
       "png": "[encoded data removed]"
      }
     ],
     "prompt_number": 16
    },
    {
     "cell_type": "code",
     "collapsed": false,
     "input": [
      "# Looking for completed task inflection points:\n",
      "active_tasks_matrix = []\n",
      "for folder in os.listdir(BASE_PATH):\n",
      "    data = load_data(BASE_PATH + folder + \"/data.json\")\n",
      "    keys, active_tasks, complete_tasks = count_tasks(data)\n",
      "    active_tasks_matrix.append(active_tasks)"
     ],
     "language": "python",
     "metadata": {},
     "outputs": [],
     "prompt_number": 17
    },
    {
     "cell_type": "code",
     "collapsed": false,
     "input": [
      "delta_tasks = []\n",
      "for active_tasks in active_tasks_matrix:\n",
      "    delta = max(active_tasks) - min(active_tasks)\n",
      "    delta_tasks.append(delta)"
     ],
     "language": "python",
     "metadata": {},
     "outputs": [],
     "prompt_number": 18
    },
    {
     "cell_type": "code",
     "collapsed": false,
     "input": [
      "plt.scatter(agent_counts, delta_tasks)"
     ],
     "language": "python",
     "metadata": {},
     "outputs": [
      {
       "output_type": "pyout",
       "prompt_number": 20,
       "text": [
        "<matplotlib.collections.PathCollection at 0x10ca40250>"
       ]
      },
      {
       "output_type": "display_data",
       "png": "[encoded data removed]"
      }
     ],
     "prompt_number": 20
    },
    {
     "cell_type": "code",
     "collapsed": false,
     "input": [],
     "language": "python",
     "metadata": {},
     "outputs": []
    }
   ],
   "metadata": {}
  }
 ]
}