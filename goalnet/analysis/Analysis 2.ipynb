{
 "metadata": {
  "name": "Analysis 2"
 },
 "nbformat": 3,
 "nbformat_minor": 0,
 "worksheets": [
  {
   "cells": [
    {
     "cell_type": "code",
     "collapsed": false,
     "input": [
      "import os\n",
      "from analysis_functions import *\n",
      "import matplotlib.pyplot as plt\n",
      "import numpy as np\n",
      "import networkx as nx\n",
      "import pandas\n",
      "import statsmodels.api as sm"
     ],
     "language": "python",
     "metadata": {},
     "outputs": [],
     "prompt_number": 1
    },
    {
     "cell_type": "code",
     "collapsed": false,
     "input": [
      "BASE_PATH = \"../outputs/\""
     ],
     "language": "python",
     "metadata": {},
     "outputs": [],
     "prompt_number": 3
    },
    {
     "cell_type": "code",
     "collapsed": false,
     "input": [
      "# Find last gini for each run:\n",
      "agent_counts = []\n",
      "final_ginis = []\n",
      "for data in iterate_over_data(BASE_PATH):\n",
      "    agent_count = len(data[data.keys()[0]][\"wealth\"])\n",
      "    agent_counts.append(agent_count)\n",
      "    ginis = get_ginis(data)\n",
      "    final_ginis.append(ginis[-1])"
     ],
     "language": "python",
     "metadata": {},
     "outputs": [],
     "prompt_number": 3
    },
    {
     "cell_type": "code",
     "collapsed": false,
     "input": [
      "print np.mean(final_ginis)\n",
      "print np.median(final_ginis)\n",
      "print np.min(final_ginis)\n",
      "print np.max(final_ginis)\n"
     ],
     "language": "python",
     "metadata": {},
     "outputs": [
      {
       "output_type": "stream",
       "stream": "stdout",
       "text": [
        "0.309574656724\n",
        "0.296546970574\n",
        "0.236534706603\n",
        "0.674644620522\n"
       ]
      }
     ],
     "prompt_number": 4
    },
    {
     "cell_type": "code",
     "collapsed": false,
     "input": [
      "plt.scatter(agent_counts, final_ginis)\n",
      "plt.xlabel(\"Agent Count\")\n",
      "plt.ylabel(\"Final Gini Coefficient\")"
     ],
     "language": "python",
     "metadata": {},
     "outputs": [
      {
       "output_type": "pyout",
       "prompt_number": 5,
       "text": [
        "<matplotlib.text.Text at 0x147595b50>"
       ]
      },
      {
       "output_type": "display_data",
       "png": "[encoded data removed]"
      }
     ],
     "prompt_number": 5
    },
    {
     "cell_type": "code",
     "collapsed": false,
     "input": [
      "# Looking for completed task inflection points:\n",
      "active_tasks_matrix = []\n",
      "for data in iterate_over_data(BASE_PATH):\n",
      "    keys, active_tasks, complete_tasks = count_tasks(data)\n",
      "    active_tasks_matrix.append(active_tasks)"
     ],
     "language": "python",
     "metadata": {},
     "outputs": [],
     "prompt_number": 7
    },
    {
     "cell_type": "code",
     "collapsed": false,
     "input": [
      "delta_tasks = []\n",
      "for active_tasks in active_tasks_matrix:\n",
      "    delta = max(active_tasks) - min(active_tasks)\n",
      "    delta_tasks.append(delta)"
     ],
     "language": "python",
     "metadata": {},
     "outputs": [],
     "prompt_number": 8
    },
    {
     "cell_type": "code",
     "collapsed": false,
     "input": [
      "plt.scatter(agent_counts, delta_tasks)"
     ],
     "language": "python",
     "metadata": {},
     "outputs": [
      {
       "output_type": "pyout",
       "prompt_number": 9,
       "text": [
        "<matplotlib.collections.PathCollection at 0x15283d1d0>"
       ]
      },
      {
       "output_type": "display_data",
       "png": "[encoded data removed]"
      }
     ],
     "prompt_number": 9
    },
    {
     "cell_type": "markdown",
     "metadata": {},
     "source": [
      "# Task network analyses"
     ]
    },
    {
     "cell_type": "markdown",
     "metadata": {},
     "source": [
      "## Network statistics"
     ]
    },
    {
     "cell_type": "code",
     "collapsed": false,
     "input": [
      "graph_data = []\n",
      "for G in iterate_over_networks(BASE_PATH):\n",
      "    g_dat = get_network_statistics(G)\n",
      "    graph_data.append(g_dat)"
     ],
     "language": "python",
     "metadata": {},
     "outputs": [],
     "prompt_number": 4
    },
    {
     "cell_type": "code",
     "collapsed": false,
     "input": [
      "net_stats = pandas.DataFrame(graph_data)"
     ],
     "language": "python",
     "metadata": {},
     "outputs": [],
     "prompt_number": 5
    },
    {
     "cell_type": "code",
     "collapsed": false,
     "input": [
      "plt.scatter(net_stats.size, net_stats.transitivity)"
     ],
     "language": "python",
     "metadata": {},
     "outputs": [
      {
       "output_type": "pyout",
       "prompt_number": 7,
       "text": [
        "<matplotlib.collections.PathCollection at 0x10a539850>"
       ]
      },
      {
       "output_type": "display_data",
       "png": "[encoded data removed]"
      }
     ],
     "prompt_number": 7
    },
    {
     "cell_type": "code",
     "collapsed": false,
     "input": [
      "fig = plt.figure(figsize=(12,6))\n",
      "subplot1 = plt.subplot(131)\n",
      "subplot1.scatter(net_stats.size, net_stats.density)\n",
      "subplot1.set_title(\"Density\")\n",
      "subplot1.set_xlabel(\"Node Count\")\n",
      "subplot1.set_ylabel(\"Density\")\n",
      "\n",
      "subplot2 = plt.subplot(132)\n",
      "subplot2.scatter(net_stats.size, net_stats.clustering)\n",
      "subplot2.set_title(\"Transitivity Ratio\")\n",
      "subplot2.set_xlabel(\"Node Count\")\n",
      "subplot2.set_ylabel(\"Transitivity\")\n",
      "\n",
      "subplot3 = plt.subplot(133)\n",
      "subplot3.scatter(net_stats.size, net_stats.clustering)\n",
      "subplot3.set_title(\"Global Reaching Centrality\")\n",
      "subplot3.set_xlabel(\"Node Count\")\n",
      "subplot3.set_ylabel(\"Global Reaching Centrality \")"
     ],
     "language": "python",
     "metadata": {},
     "outputs": [
      {
       "output_type": "pyout",
       "prompt_number": 8,
       "text": [
        "<matplotlib.text.Text at 0x10b5eea10>"
       ]
      },
      {
       "output_type": "display_data",
       "png": "[encoded data removed]"
      }
     ],
     "prompt_number": 8
    },
    {
     "cell_type": "code",
     "collapsed": false,
     "input": [
      "net_stats.corr()"
     ],
     "language": "python",
     "metadata": {},
     "outputs": [
      {
       "html": [
        "<div style=\"max-height:1000px;max-width:1500px;overflow:auto;\">\n",
        "<table border=\"1\" class=\"dataframe\">\n",
        "  <thead>\n",
        "    <tr style=\"text-align: right;\">\n",
        "      <th></th>\n",
        "      <th>clustering</th>\n",
        "      <th>density</th>\n",
        "      <th>grc</th>\n",
        "      <th>size</th>\n",
        "    </tr>\n",
        "  </thead>\n",
        "  <tbody>\n",
        "    <tr>\n",
        "      <th>clustering</th>\n",
        "      <td> 1.000000</td>\n",
        "      <td> 0.963990</td>\n",
        "      <td>-0.310966</td>\n",
        "      <td> 0.056389</td>\n",
        "    </tr>\n",
        "    <tr>\n",
        "      <th>density</th>\n",
        "      <td> 0.963990</td>\n",
        "      <td> 1.000000</td>\n",
        "      <td>-0.125378</td>\n",
        "      <td>-0.013180</td>\n",
        "    </tr>\n",
        "    <tr>\n",
        "      <th>grc</th>\n",
        "      <td>-0.310966</td>\n",
        "      <td>-0.125378</td>\n",
        "      <td> 1.000000</td>\n",
        "      <td>-0.584722</td>\n",
        "    </tr>\n",
        "    <tr>\n",
        "      <th>size</th>\n",
        "      <td> 0.056389</td>\n",
        "      <td>-0.013180</td>\n",
        "      <td>-0.584722</td>\n",
        "      <td> 1.000000</td>\n",
        "    </tr>\n",
        "  </tbody>\n",
        "</table>\n",
        "</div>"
       ],
       "output_type": "pyout",
       "prompt_number": 25,
       "text": [
        "            clustering   density       grc      size\n",
        "clustering    1.000000  0.963990 -0.310966  0.056389\n",
        "density       0.963990  1.000000 -0.125378 -0.013180\n",
        "grc          -0.310966 -0.125378  1.000000 -0.584722\n",
        "size          0.056389 -0.013180 -0.584722  1.000000"
       ]
      }
     ],
     "prompt_number": 25
    },
    {
     "cell_type": "code",
     "collapsed": false,
     "input": [
      "all_network_data = []\n",
      "counter = 0\n",
      "for G in iterate_over_networks(BASE_PATH):\n",
      "    for agent in get_agent_data(G):\n",
      "        agent['iteration'] = counter\n",
      "        all_network_data.append(agent)\n",
      "    counter += 1\n",
      "\n",
      "        "
     ],
     "language": "python",
     "metadata": {},
     "outputs": [],
     "prompt_number": 3
    },
    {
     "cell_type": "code",
     "collapsed": false,
     "input": [
      "\n",
      "df = pandas.DataFrame(all_network_data)"
     ],
     "language": "python",
     "metadata": {},
     "outputs": [],
     "prompt_number": 4
    },
    {
     "cell_type": "code",
     "collapsed": false,
     "input": [
      "df.head()"
     ],
     "language": "python",
     "metadata": {},
     "outputs": [
      {
       "html": [
        "<div style=\"max-height:1000px;max-width:1500px;overflow:auto;\">\n",
        "<table border=\"1\" class=\"dataframe\">\n",
        "  <thead>\n",
        "    <tr style=\"text-align: right;\">\n",
        "      <th></th>\n",
        "      <th>betweenness</th>\n",
        "      <th>centralization</th>\n",
        "      <th>closeness</th>\n",
        "      <th>greed</th>\n",
        "      <th>in_deg</th>\n",
        "      <th>iteration</th>\n",
        "      <th>out_deg</th>\n",
        "      <th>total_agent_count</th>\n",
        "      <th>wealth</th>\n",
        "    </tr>\n",
        "  </thead>\n",
        "  <tbody>\n",
        "    <tr>\n",
        "      <th>0</th>\n",
        "      <td> 0.001838</td>\n",
        "      <td> 0.460591</td>\n",
        "      <td> 0.580791</td>\n",
        "      <td> 0.779851</td>\n",
        "      <td>  56</td>\n",
        "      <td> 0</td>\n",
        "      <td> 63</td>\n",
        "      <td> 200</td>\n",
        "      <td> 15.064970</td>\n",
        "    </tr>\n",
        "    <tr>\n",
        "      <th>1</th>\n",
        "      <td> 0.007338</td>\n",
        "      <td> 0.358066</td>\n",
        "      <td> 0.652152</td>\n",
        "      <td> 0.189401</td>\n",
        "      <td> 105</td>\n",
        "      <td> 0</td>\n",
        "      <td> 98</td>\n",
        "      <td> 200</td>\n",
        "      <td> 24.606230</td>\n",
        "    </tr>\n",
        "    <tr>\n",
        "      <th>2</th>\n",
        "      <td> 0.001710</td>\n",
        "      <td> 0.423082</td>\n",
        "      <td> 0.654385</td>\n",
        "      <td> 0.332489</td>\n",
        "      <td>  24</td>\n",
        "      <td> 0</td>\n",
        "      <td> 99</td>\n",
        "      <td> 200</td>\n",
        "      <td> 26.772955</td>\n",
        "    </tr>\n",
        "    <tr>\n",
        "      <th>3</th>\n",
        "      <td> 0.011613</td>\n",
        "      <td> 0.236023</td>\n",
        "      <td> 0.598998</td>\n",
        "      <td> 0.502804</td>\n",
        "      <td> 176</td>\n",
        "      <td> 0</td>\n",
        "      <td> 72</td>\n",
        "      <td> 200</td>\n",
        "      <td> 20.374834</td>\n",
        "    </tr>\n",
        "    <tr>\n",
        "      <th>4</th>\n",
        "      <td> 0.001130</td>\n",
        "      <td> 0.542510</td>\n",
        "      <td> 0.595266</td>\n",
        "      <td> 0.280704</td>\n",
        "      <td>  33</td>\n",
        "      <td> 0</td>\n",
        "      <td> 70</td>\n",
        "      <td> 200</td>\n",
        "      <td> 28.255938</td>\n",
        "    </tr>\n",
        "  </tbody>\n",
        "</table>\n",
        "</div>"
       ],
       "output_type": "pyout",
       "prompt_number": 5,
       "text": [
        "   betweenness  centralization  closeness     greed  in_deg  iteration  out_deg  \\\n",
        "0     0.001838        0.460591   0.580791  0.779851      56          0       63   \n",
        "1     0.007338        0.358066   0.652152  0.189401     105          0       98   \n",
        "2     0.001710        0.423082   0.654385  0.332489      24          0       99   \n",
        "3     0.011613        0.236023   0.598998  0.502804     176          0       72   \n",
        "4     0.001130        0.542510   0.595266  0.280704      33          0       70   \n",
        "\n",
        "   total_agent_count     wealth  \n",
        "0                200  15.064970  \n",
        "1                200  24.606230  \n",
        "2                200  26.772955  \n",
        "3                200  20.374834  \n",
        "4                200  28.255938  "
       ]
      }
     ],
     "prompt_number": 5
    },
    {
     "cell_type": "code",
     "collapsed": false,
     "input": [
      "df.corr(method='spearman')"
     ],
     "language": "python",
     "metadata": {},
     "outputs": [
      {
       "html": [
        "<div style=\"max-height:1000px;max-width:1500px;overflow:auto;\">\n",
        "<table border=\"1\" class=\"dataframe\">\n",
        "  <thead>\n",
        "    <tr style=\"text-align: right;\">\n",
        "      <th></th>\n",
        "      <th>betweenness</th>\n",
        "      <th>centralization</th>\n",
        "      <th>closeness</th>\n",
        "      <th>greed</th>\n",
        "      <th>in_deg</th>\n",
        "      <th>iteration</th>\n",
        "      <th>out_deg</th>\n",
        "      <th>total_agent_count</th>\n",
        "      <th>wealth</th>\n",
        "    </tr>\n",
        "  </thead>\n",
        "  <tbody>\n",
        "    <tr>\n",
        "      <th>betweenness</th>\n",
        "      <td> 1.000000</td>\n",
        "      <td>-0.339470</td>\n",
        "      <td> 0.217732</td>\n",
        "      <td>-0.142784</td>\n",
        "      <td> 0.367703</td>\n",
        "      <td>-0.060049</td>\n",
        "      <td> 0.071158</td>\n",
        "      <td>-0.339955</td>\n",
        "      <td> 0.279781</td>\n",
        "    </tr>\n",
        "    <tr>\n",
        "      <th>centralization</th>\n",
        "      <td>-0.339470</td>\n",
        "      <td> 1.000000</td>\n",
        "      <td>-0.487498</td>\n",
        "      <td> 0.023784</td>\n",
        "      <td>-0.011657</td>\n",
        "      <td> 0.007085</td>\n",
        "      <td>-0.520629</td>\n",
        "      <td>-0.003830</td>\n",
        "      <td>-0.402440</td>\n",
        "    </tr>\n",
        "    <tr>\n",
        "      <th>closeness</th>\n",
        "      <td> 0.217732</td>\n",
        "      <td>-0.487498</td>\n",
        "      <td> 1.000000</td>\n",
        "      <td>-0.228439</td>\n",
        "      <td> 0.308822</td>\n",
        "      <td> 0.079603</td>\n",
        "      <td> 0.771366</td>\n",
        "      <td> 0.208080</td>\n",
        "      <td> 0.585908</td>\n",
        "    </tr>\n",
        "    <tr>\n",
        "      <th>greed</th>\n",
        "      <td>-0.142784</td>\n",
        "      <td> 0.023784</td>\n",
        "      <td>-0.228439</td>\n",
        "      <td> 1.000000</td>\n",
        "      <td> 0.043805</td>\n",
        "      <td> 0.012308</td>\n",
        "      <td>-0.223177</td>\n",
        "      <td> 0.014853</td>\n",
        "      <td> 0.123073</td>\n",
        "    </tr>\n",
        "    <tr>\n",
        "      <th>in_deg</th>\n",
        "      <td> 0.367703</td>\n",
        "      <td>-0.011657</td>\n",
        "      <td> 0.308822</td>\n",
        "      <td> 0.043805</td>\n",
        "      <td> 1.000000</td>\n",
        "      <td> 0.121786</td>\n",
        "      <td> 0.432714</td>\n",
        "      <td> 0.477409</td>\n",
        "      <td> 0.574272</td>\n",
        "    </tr>\n",
        "    <tr>\n",
        "      <th>iteration</th>\n",
        "      <td>-0.060049</td>\n",
        "      <td> 0.007085</td>\n",
        "      <td> 0.079603</td>\n",
        "      <td> 0.012308</td>\n",
        "      <td> 0.121786</td>\n",
        "      <td> 1.000000</td>\n",
        "      <td> 0.145412</td>\n",
        "      <td> 0.341355</td>\n",
        "      <td> 0.067684</td>\n",
        "    </tr>\n",
        "    <tr>\n",
        "      <th>out_deg</th>\n",
        "      <td> 0.071158</td>\n",
        "      <td>-0.520629</td>\n",
        "      <td> 0.771366</td>\n",
        "      <td>-0.223177</td>\n",
        "      <td> 0.432714</td>\n",
        "      <td> 0.145412</td>\n",
        "      <td> 1.000000</td>\n",
        "      <td> 0.597947</td>\n",
        "      <td> 0.633860</td>\n",
        "    </tr>\n",
        "    <tr>\n",
        "      <th>total_agent_count</th>\n",
        "      <td>-0.339955</td>\n",
        "      <td>-0.003830</td>\n",
        "      <td> 0.208080</td>\n",
        "      <td> 0.014853</td>\n",
        "      <td> 0.477409</td>\n",
        "      <td> 0.341355</td>\n",
        "      <td> 0.597947</td>\n",
        "      <td> 1.000000</td>\n",
        "      <td> 0.300796</td>\n",
        "    </tr>\n",
        "    <tr>\n",
        "      <th>wealth</th>\n",
        "      <td> 0.279781</td>\n",
        "      <td>-0.402440</td>\n",
        "      <td> 0.585908</td>\n",
        "      <td> 0.123073</td>\n",
        "      <td> 0.574272</td>\n",
        "      <td> 0.067684</td>\n",
        "      <td> 0.633860</td>\n",
        "      <td> 0.300796</td>\n",
        "      <td> 1.000000</td>\n",
        "    </tr>\n",
        "  </tbody>\n",
        "</table>\n",
        "</div>"
       ],
       "output_type": "pyout",
       "prompt_number": 6,
       "text": [
        "                   betweenness  centralization  closeness     greed    in_deg  \\\n",
        "betweenness           1.000000       -0.339470   0.217732 -0.142784  0.367703   \n",
        "centralization       -0.339470        1.000000  -0.487498  0.023784 -0.011657   \n",
        "closeness             0.217732       -0.487498   1.000000 -0.228439  0.308822   \n",
        "greed                -0.142784        0.023784  -0.228439  1.000000  0.043805   \n",
        "in_deg                0.367703       -0.011657   0.308822  0.043805  1.000000   \n",
        "iteration            -0.060049        0.007085   0.079603  0.012308  0.121786   \n",
        "out_deg               0.071158       -0.520629   0.771366 -0.223177  0.432714   \n",
        "total_agent_count    -0.339955       -0.003830   0.208080  0.014853  0.477409   \n",
        "wealth                0.279781       -0.402440   0.585908  0.123073  0.574272   \n",
        "\n",
        "                   iteration   out_deg  total_agent_count    wealth  \n",
        "betweenness        -0.060049  0.071158          -0.339955  0.279781  \n",
        "centralization      0.007085 -0.520629          -0.003830 -0.402440  \n",
        "closeness           0.079603  0.771366           0.208080  0.585908  \n",
        "greed               0.012308 -0.223177           0.014853  0.123073  \n",
        "in_deg              0.121786  0.432714           0.477409  0.574272  \n",
        "iteration           1.000000  0.145412           0.341355  0.067684  \n",
        "out_deg             0.145412  1.000000           0.597947  0.633860  \n",
        "total_agent_count   0.341355  0.597947           1.000000  0.300796  \n",
        "wealth              0.067684  0.633860           0.300796  1.000000  "
       ]
      }
     ],
     "prompt_number": 6
    },
    {
     "cell_type": "code",
     "collapsed": false,
     "input": [],
     "language": "python",
     "metadata": {},
     "outputs": [],
     "prompt_number": 8
    },
    {
     "cell_type": "code",
     "collapsed": false,
     "input": [
      "d = df[(df[\"wealth\"]>0) & (df[\"centralization\"]>0)]\n",
      "d[\"Const.\"] = 1"
     ],
     "language": "python",
     "metadata": {},
     "outputs": [],
     "prompt_number": 22
    },
    {
     "cell_type": "code",
     "collapsed": false,
     "input": [
      "model = sm.OLS(d.wealth, d[[\"Const.\", \"centralization\", \"greed\"]])"
     ],
     "language": "python",
     "metadata": {},
     "outputs": [],
     "prompt_number": 27
    },
    {
     "cell_type": "code",
     "collapsed": false,
     "input": [
      "model_fit = model.fit()"
     ],
     "language": "python",
     "metadata": {},
     "outputs": [],
     "prompt_number": 28
    },
    {
     "cell_type": "code",
     "collapsed": false,
     "input": [
      "model_fit.summary()"
     ],
     "language": "python",
     "metadata": {},
     "outputs": [
      {
       "html": [
        "<table class=\"simpletable\">\n",
        "<caption>OLS Regression Results</caption>\n",
        "<tr>\n",
        "  <th>Dep. Variable:</th>         <td>wealth</td>      <th>  R-squared:         </th> <td>   0.157</td> \n",
        "</tr>\n",
        "<tr>\n",
        "  <th>Model:</th>                   <td>OLS</td>       <th>  Adj. R-squared:    </th> <td>   0.157</td> \n",
        "</tr>\n",
        "<tr>\n",
        "  <th>Method:</th>             <td>Least Squares</td>  <th>  F-statistic:       </th> <td>   553.7</td> \n",
        "</tr>\n",
        "<tr>\n",
        "  <th>Date:</th>             <td>Thu, 09 May 2013</td> <th>  Prob (F-statistic):</th> <td>3.34e-221</td>\n",
        "</tr>\n",
        "<tr>\n",
        "  <th>Time:</th>                 <td>23:15:11</td>     <th>  Log-Likelihood:    </th> <td> -21510.</td> \n",
        "</tr>\n",
        "<tr>\n",
        "  <th>No. Observations:</th>      <td>  5939</td>      <th>  AIC:               </th> <td>4.303e+04</td>\n",
        "</tr>\n",
        "<tr>\n",
        "  <th>Df Residuals:</th>          <td>  5936</td>      <th>  BIC:               </th> <td>4.305e+04</td>\n",
        "</tr>\n",
        "<tr>\n",
        "  <th>Df Model:</th>              <td>     2</td>      <th>                     </th>     <td> </td>    \n",
        "</tr>\n",
        "</table>\n",
        "<table class=\"simpletable\">\n",
        "<tr>\n",
        "         <td></td>           <th>coef</th>     <th>std err</th>      <th>t</th>      <th>P>|t|</th> <th>[95.0% Conf. Int.]</th> \n",
        "</tr>\n",
        "<tr>\n",
        "  <th>Const.</th>         <td>   18.8176</td> <td>    0.305</td> <td>   61.729</td> <td> 0.000</td> <td>   18.220    19.415</td>\n",
        "</tr>\n",
        "<tr>\n",
        "  <th>centralization</th> <td>  -12.6705</td> <td>    0.407</td> <td>  -31.156</td> <td> 0.000</td> <td>  -13.468   -11.873</td>\n",
        "</tr>\n",
        "<tr>\n",
        "  <th>greed</th>          <td>    5.0368</td> <td>    0.406</td> <td>   12.404</td> <td> 0.000</td> <td>    4.241     5.833</td>\n",
        "</tr>\n",
        "</table>\n",
        "<table class=\"simpletable\">\n",
        "<tr>\n",
        "  <th>Omnibus:</th>       <td>1127.765</td> <th>  Durbin-Watson:     </th> <td>   1.248</td>\n",
        "</tr>\n",
        "<tr>\n",
        "  <th>Prob(Omnibus):</th>  <td> 0.000</td>  <th>  Jarque-Bera (JB):  </th> <td>2378.043</td>\n",
        "</tr>\n",
        "<tr>\n",
        "  <th>Skew:</th>           <td> 1.113</td>  <th>  Prob(JB):          </th> <td>    0.00</td>\n",
        "</tr>\n",
        "<tr>\n",
        "  <th>Kurtosis:</th>       <td> 5.157</td>  <th>  Cond. No.          </th> <td>    5.20</td>\n",
        "</tr>\n",
        "</table>"
       ],
       "output_type": "pyout",
       "prompt_number": 29,
       "text": [
        "<class 'statsmodels.iolib.summary.Summary'>\n",
        "\"\"\"\n",
        "                            OLS Regression Results                            \n",
        "==============================================================================\n",
        "Dep. Variable:                 wealth   R-squared:                       0.157\n",
        "Model:                            OLS   Adj. R-squared:                  0.157\n",
        "Method:                 Least Squares   F-statistic:                     553.7\n",
        "Date:                Thu, 09 May 2013   Prob (F-statistic):          3.34e-221\n",
        "Time:                        23:15:11   Log-Likelihood:                -21510.\n",
        "No. Observations:                5939   AIC:                         4.303e+04\n",
        "Df Residuals:                    5936   BIC:                         4.305e+04\n",
        "Df Model:                           2                                         \n",
        "==================================================================================\n",
        "                     coef    std err          t      P>|t|      [95.0% Conf. Int.]\n",
        "----------------------------------------------------------------------------------\n",
        "Const.            18.8176      0.305     61.729      0.000        18.220    19.415\n",
        "centralization   -12.6705      0.407    -31.156      0.000       -13.468   -11.873\n",
        "greed              5.0368      0.406     12.404      0.000         4.241     5.833\n",
        "==============================================================================\n",
        "Omnibus:                     1127.765   Durbin-Watson:                   1.248\n",
        "Prob(Omnibus):                  0.000   Jarque-Bera (JB):             2378.043\n",
        "Skew:                           1.113   Prob(JB):                         0.00\n",
        "Kurtosis:                       5.157   Cond. No.                         5.20\n",
        "==============================================================================\n",
        "\"\"\""
       ]
      }
     ],
     "prompt_number": 29
    },
    {
     "cell_type": "code",
     "collapsed": false,
     "input": [
      "model_fit.params[\"greed\"]"
     ],
     "language": "python",
     "metadata": {},
     "outputs": [
      {
       "output_type": "pyout",
       "prompt_number": 34,
       "text": [
        "5.0368224843097558"
       ]
      }
     ],
     "prompt_number": 34
    },
    {
     "cell_type": "code",
     "collapsed": false,
     "input": [
      "cent_coeff = []\n",
      "greed_coeff = []\n",
      "\n",
      "for iteration in d.iteration.unique():\n",
      "    d_sub = d[d.iteration==iteration]\n",
      "    fit = sm.OLS(d_sub.wealth, d_sub[[\"Const.\", \"centralization\", \"greed\"]]).fit()\n",
      "    cent_coeff.append(fit.params[\"centralization\"])\n",
      "    greed_coeff.append(fit.params[\"greed\"])\n",
      "    "
     ],
     "language": "python",
     "metadata": {},
     "outputs": [],
     "prompt_number": 35
    },
    {
     "cell_type": "code",
     "collapsed": false,
     "input": [
      "\n",
      "plt.scatter(cent_coeff, greed_coeff)\n",
      "plt.xlabel(\"Centralization Coefficient\")\n",
      "plt.ylabel(\"Greed Coefficient\")"
     ],
     "language": "python",
     "metadata": {},
     "outputs": [
      {
       "output_type": "pyout",
       "prompt_number": 40,
       "text": [
        "<matplotlib.text.Text at 0x10d904750>"
       ]
      },
      {
       "output_type": "display_data",
       "png": "[encoded data removed]"
      }
     ],
     "prompt_number": 40
    },
    {
     "cell_type": "code",
     "collapsed": false,
     "input": [
      "G = nx.gn_graph(20)\n",
      "nx.clustering(G)"
     ],
     "language": "python",
     "metadata": {},
     "outputs": [
      {
       "ename": "NetworkXError",
       "evalue": "('Clustering algorithms are not defined ', 'for directed graphs.')",
       "output_type": "pyerr",
       "traceback": [
        "\u001b[0;31m---------------------------------------------------------------------------\u001b[0m\n\u001b[0;31mNetworkXError\u001b[0m                             Traceback (most recent call last)",
        "\u001b[0;32m<ipython-input-4-a871424a2c3e>\u001b[0m in \u001b[0;36m<module>\u001b[0;34m()\u001b[0m\n\u001b[1;32m      1\u001b[0m \u001b[0mG\u001b[0m \u001b[0;34m=\u001b[0m \u001b[0mnx\u001b[0m\u001b[0;34m.\u001b[0m\u001b[0mgn_graph\u001b[0m\u001b[0;34m(\u001b[0m\u001b[0;36m20\u001b[0m\u001b[0;34m)\u001b[0m\u001b[0;34m\u001b[0m\u001b[0m\n\u001b[0;32m----> 2\u001b[0;31m \u001b[0mnx\u001b[0m\u001b[0;34m.\u001b[0m\u001b[0mclustering\u001b[0m\u001b[0;34m(\u001b[0m\u001b[0mG\u001b[0m\u001b[0;34m)\u001b[0m\u001b[0;34m\u001b[0m\u001b[0m\n\u001b[0m",
        "\u001b[0;32m/Library/Python/2.7/site-packages/networkx/algorithms/cluster.pyc\u001b[0m in \u001b[0;36mclustering\u001b[0;34m(G, nodes, weight)\u001b[0m\n\u001b[1;32m    237\u001b[0m     \u001b[0;32mif\u001b[0m \u001b[0mG\u001b[0m\u001b[0;34m.\u001b[0m\u001b[0mis_directed\u001b[0m\u001b[0;34m(\u001b[0m\u001b[0;34m)\u001b[0m\u001b[0;34m:\u001b[0m\u001b[0;34m\u001b[0m\u001b[0m\n\u001b[1;32m    238\u001b[0m         raise NetworkXError('Clustering algorithms are not defined ',\n\u001b[0;32m--> 239\u001b[0;31m                             'for directed graphs.')\n\u001b[0m\u001b[1;32m    240\u001b[0m     \u001b[0;32mif\u001b[0m \u001b[0mweight\u001b[0m \u001b[0;32mis\u001b[0m \u001b[0;32mnot\u001b[0m \u001b[0mNone\u001b[0m\u001b[0;34m:\u001b[0m\u001b[0;34m\u001b[0m\u001b[0m\n\u001b[1;32m    241\u001b[0m         \u001b[0mtd_iter\u001b[0m\u001b[0;34m=\u001b[0m\u001b[0m_weighted_triangles_and_degree_iter\u001b[0m\u001b[0;34m(\u001b[0m\u001b[0mG\u001b[0m\u001b[0;34m,\u001b[0m\u001b[0mnodes\u001b[0m\u001b[0;34m,\u001b[0m\u001b[0mweight\u001b[0m\u001b[0;34m)\u001b[0m\u001b[0;34m\u001b[0m\u001b[0m\n",
        "\u001b[0;31mNetworkXError\u001b[0m: ('Clustering algorithms are not defined ', 'for directed graphs.')"
       ]
      }
     ],
     "prompt_number": 4
    },
    {
     "cell_type": "code",
     "collapsed": false,
     "input": [
      "nx.transitivity?"
     ],
     "language": "python",
     "metadata": {},
     "outputs": [],
     "prompt_number": 26
    },
    {
     "cell_type": "code",
     "collapsed": false,
     "input": [],
     "language": "python",
     "metadata": {},
     "outputs": []
    }
   ],
   "metadata": {}
  }
 ]
}